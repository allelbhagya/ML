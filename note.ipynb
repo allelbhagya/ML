{
  "nbformat": 4,
  "nbformat_minor": 0,
  "metadata": {
    "colab": {
      "name": "note.ipynb",
      "provenance": [],
      "authorship_tag": "ABX9TyOzY1LmlPV7ntICbSGQxZfM"
    },
    "kernelspec": {
      "name": "python3",
      "display_name": "Python 3"
    },
    "language_info": {
      "name": "python"
    }
  },
  "cells": [
    {
      "cell_type": "code",
      "metadata": {
        "colab": {
          "base_uri": "https://localhost:8080/"
        },
        "id": "ZfOkFKcX2zf8",
        "outputId": "995b9461-74d1-4394-c701-944935b208af"
      },
      "source": [
        "import pandas as pd\n",
        "from sklearn.tree import DecisionTreeClassifier\n",
        "from sklearn.model_selection import train_test_split\n",
        "from sklearn.metrics import accuracy_score\n",
        "\n",
        "data=pd.read_csv('music.csv')\n",
        "X= data.drop(columns=['genre'])\n",
        "y= data['genre']\n",
        "\n",
        "X_train, X_test, y_train, y_test = train_test_split(X, y, test_size=0.2)\n",
        "\n",
        "\n",
        "model = DecisionTreeClassifier()\n",
        "model.fit(X_train,y_train)\n",
        "pre=model.predict(X_test)\n",
        "score = accuracy_score(y_test, pre)\n",
        "score"
      ],
      "execution_count": null,
      "outputs": [
        {
          "output_type": "execute_result",
          "data": {
            "text/plain": [
              "1.0"
            ]
          },
          "metadata": {},
          "execution_count": 27
        }
      ]
    },
    {
      "cell_type": "code",
      "metadata": {
        "id": "Fe-q2Tw2EOBj"
      },
      "source": [
        "import pandas as pd\n",
        "from sklearn.tree import DecisionTreeClassifier\n",
        "from sklearn import tree\n",
        "\n",
        "data=pd.read_csv('music.csv')\n",
        "X= data.drop(columns=['genre'])\n",
        "y= data['genre']\n",
        "\n",
        "model = DecisionTreeClassifier()\n",
        "model.fit(X,y)\n",
        "\n",
        "tree.export_graphviz(model, out_file='music_rec.dot',\n",
        "                     feature_names=['age','gender'],\n",
        "                     class_names=sorted(y.unique()),\n",
        "                     label='all',\n",
        "                     rounded=True,\n",
        "                     filled=True)"
      ],
      "execution_count": null,
      "outputs": []
    },
    }
  ]
}
