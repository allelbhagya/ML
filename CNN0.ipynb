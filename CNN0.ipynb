{
  "nbformat": 4,
  "nbformat_minor": 0,
  "metadata": {
    "colab": {
      "name": "CNN0.ipynb",
      "provenance": []
    },
    "kernelspec": {
      "name": "python3",
      "display_name": "Python 3"
    },
    "language_info": {
      "name": "python"
    }
  },
  "cells": [
    {
      "cell_type": "markdown",
      "source": [
        "Building an activity classification model that predicts the activity the user is doing.\n",
        "\n",
        "Algorithim - **Convolutional Neural Networks**\n",
        "\n",
        "\n",
        "*   When we compare handcrafted features with CNN, CNN performance well and it gives better accuracy. It also learns different features from images.\n",
        "*   In algorithm based image classification, we need to select the features(local, global) and classifiers.\n",
        "* In CNN we model the convolution layer with ReLU activation to make all negative value to zero."
      ],
      "metadata": {
        "id": "OKJeBIWtq98a"
      }
    },
    {
      "cell_type": "markdown",
      "source": [
        "*Prerequisites for our model.*"
      ],
      "metadata": {
        "id": "j5qVJkaaqtuP"
      }
    },
    {
      "cell_type": "code",
      "source": [
        "from google.colab import drive\n",
        "import tensorflow\n",
        "import cv2,os\n",
        "import numpy as np\n",
        "\n",
        "from keras.models import Sequential\n",
        "from keras.layers import Dense,Activation,Flatten,Dropout\n",
        "from keras.layers import Conv2D,MaxPooling2D\n",
        "from keras.callbacks import ModelCheckpoint\n",
        "\n",
        "from sklearn.model_selection import train_test_split\n",
        "\n",
        "from matplotlib import pyplot as plt"
      ],
      "metadata": {
        "id": "Ydg2AXobivAo"
      },
      "execution_count": null,
      "outputs": []
    },
    {
      "cell_type": "code",
      "source": [
        "drive.mount('/content/drive')"
      ],
      "metadata": {
        "colab": {
          "base_uri": "https://localhost:8080/"
        },
        "id": "MiFFeOXJJt6a",
        "outputId": "466bde1d-50f2-4d99-bfab-0b82e509d992"
      },
      "execution_count": null,
      "outputs": [
        {
          "output_type": "stream",
          "name": "stdout",
          "text": [
            "Mounted at /content/drive\n"
          ]
        }
      ]
    },
    {
      "cell_type": "code",
      "source": [
        "cd /content/drive/MyDrive/A"
      ],
      "metadata": {
        "colab": {
          "base_uri": "https://localhost:8080/"
        },
        "id": "uHaG7xpAKWSt",
        "outputId": "ef65dc49-e657-4de4-f64b-041484c3ab2e"
      },
      "execution_count": null,
      "outputs": [
        {
          "output_type": "stream",
          "name": "stdout",
          "text": [
            "/content/drive/MyDrive/A\n"
          ]
        }
      ]
    },
    {
      "cell_type": "code",
      "source": [
        "%tensorflow_version 1.x"
      ],
      "metadata": {
        "colab": {
          "base_uri": "https://localhost:8080/"
        },
        "id": "0MJwdc8zKhDR",
        "outputId": "6fb55ce9-2e52-42ba-df86-5c2ef4fdc62a"
      },
      "execution_count": null,
      "outputs": [
        {
          "output_type": "stream",
          "name": "stdout",
          "text": [
            "TensorFlow is already loaded. Please restart the runtime to change versions.\n"
          ]
        }
      ]
    },
    {
      "cell_type": "code",
      "source": [
        "print(tensorflow.__version__)"
      ],
      "metadata": {
        "colab": {
          "base_uri": "https://localhost:8080/"
        },
        "id": "1X4q9Y8dKihW",
        "outputId": "d58be199-d017-4aa5-d4b8-f2bcbf74b5c9"
      },
      "execution_count": null,
      "outputs": [
        {
          "output_type": "stream",
          "name": "stdout",
          "text": [
            "2.7.0\n"
          ]
        }
      ]
    },
    {
      "cell_type": "markdown",
      "source": [
        "Mapping each folder consisting of images with their names coded to values - [0,1,2,3]"
      ],
      "metadata": {
        "id": "I04BCWyhkZRA"
      }
    },
    {
      "cell_type": "code",
      "source": [
        "data_path='/content/drive/MyDrive/A'\n",
        "categories=os.listdir(data_path)\n",
        "labels=[i for i in range(len(categories))]\n",
        "\n",
        "label_dict=dict(zip(categories,labels)) #empty dictionary\n",
        "print(label_dict)\n",
        "print(categories)\n",
        "print(labels)"
      ],
      "metadata": {
        "colab": {
          "base_uri": "https://localhost:8080/"
        },
        "id": "iWSzgP9dKlpk",
        "outputId": "76ca1aeb-be9a-4661-9874-a01af52045e9"
      },
      "execution_count": null,
      "outputs": [
        {
          "output_type": "stream",
          "name": "stdout",
          "text": [
            "{'Pushups_bottom': 0, 'Pushups_top': 1, 'Squats_down': 2, 'Squats_up': 3}\n",
            "['Pushups_bottom', 'Pushups_top', 'Squats_down', 'Squats_up']\n",
            "[0, 1, 2, 3]\n"
          ]
        }
      ]
    },
    {
      "cell_type": "code",
      "source": [
        "img_size=100\n",
        "data=[]\n",
        "target=[]\n",
        "\n",
        "for category in categories:\n",
        "    folder_path=os.path.join(data_path,category)\n",
        "    img_names=os.listdir(folder_path)\n",
        "        \n",
        "    for img_name in img_names:\n",
        "        img_path=os.path.join(folder_path,img_name)\n",
        "        img=cv2.imread(img_path)\n",
        "\n",
        "        try:  \n",
        "            resized=cv2.resize(img,(img_size,img_size))\n",
        "            #resizing the image  into 100x100, since we need a fixed common size for all the images in the dataset\n",
        "            data.append(resized)\n",
        "            target.append(label_dict[category])\n",
        "            #appending the image and the label(categorized) into the list (dataset)\n",
        "        except Exception as e:\n",
        "            print('Exception:',e)"
      ],
      "metadata": {
        "id": "-EK6jXMMKqlc"
      },
      "execution_count": null,
      "outputs": []
    },
    {
      "cell_type": "markdown",
      "source": [
        "Normalising the dataset"
      ],
      "metadata": {
        "id": "VHqAGWODk0Nc"
      }
    },
    {
      "cell_type": "code",
      "source": [
        "data=np.array(data)/255.0\n",
        "data=np.reshape(data,(data.shape[0],img_size,img_size,3))\n",
        "target=np.array(target)\n",
        "from keras.utils import np_utils\n",
        "new_target=np_utils.to_categorical(target)"
      ],
      "metadata": {
        "id": "obmgUBFfLJ5z"
      },
      "execution_count": null,
      "outputs": []
    },
    {
      "cell_type": "code",
      "source": [
        "new_target.shape"
      ],
      "metadata": {
        "colab": {
          "base_uri": "https://localhost:8080/"
        },
        "id": "rS3_x50ILLxm",
        "outputId": "d820dc2d-f6fe-485f-a61a-9c6249cffd6b"
      },
      "execution_count": null,
      "outputs": [
        {
          "output_type": "execute_result",
          "data": {
            "text/plain": [
              "(316, 4)"
            ]
          },
          "metadata": {},
          "execution_count": 15
        }
      ]
    },
    {
      "cell_type": "code",
      "source": [
        "data.shape"
      ],
      "metadata": {
        "colab": {
          "base_uri": "https://localhost:8080/"
        },
        "id": "d9RgmkPLLOoG",
        "outputId": "ec57fdb6-5adb-466c-c156-9041ddb57ff6"
      },
      "execution_count": null,
      "outputs": [
        {
          "output_type": "execute_result",
          "data": {
            "text/plain": [
              "(316, 100, 100, 3)"
            ]
          },
          "metadata": {},
          "execution_count": 16
        }
      ]
    },
    {
      "cell_type": "code",
      "source": [
        "data.shape[1:]"
      ],
      "metadata": {
        "colab": {
          "base_uri": "https://localhost:8080/"
        },
        "id": "lLaCrh99LRJX",
        "outputId": "cdc27bd1-02de-4d70-882d-42ef2c6e296d"
      },
      "execution_count": null,
      "outputs": [
        {
          "output_type": "execute_result",
          "data": {
            "text/plain": [
              "(100, 100, 3)"
            ]
          },
          "metadata": {},
          "execution_count": 17
        }
      ]
    },
    {
      "cell_type": "markdown",
      "source": [
        "Using Convolutional Neural Networks with Sequential model from TensorFlow since we require to efficiently classify the image dataset to predict their respective pose.\n",
        "\n",
        "We use a Sequential model since it appropriate for a plain stack of layers where each layer has exactly one input tensor and one output tensor."
      ],
      "metadata": {
        "id": "_n-_lDqplDmF"
      }
    },
    {
      "cell_type": "code",
      "source": [
        "model=Sequential()\n",
        "\n",
        "model.add(Conv2D(200,(3,3),input_shape=data.shape[1:]))\n",
        "model.add(Activation('relu'))\n",
        "model.add(MaxPooling2D(pool_size=(2,2)))\n",
        "#Our input layer containing the image dataset\n",
        "#The first CNN layer followed by Relu and MaxPooling layers\n",
        "\n",
        "model.add(Conv2D(100,(3,3)))\n",
        "model.add(Activation('relu'))\n",
        "model.add(MaxPooling2D(pool_size=(2,2)))\n",
        "#The second convolution layer followed by Relu and MaxPooling layers\n",
        "\n",
        "model.add(Flatten())\n",
        "model.add(Dropout(0.5))\n",
        "#Flatten layer to stack the output convolutions from second convolution layer\n",
        "model.add(Dense(50,activation='relu'))\n",
        "#Dense layer of 64 neurons\n",
        "model.add(Dense(4,activation='softmax'))\n",
        "#The Final layer with one output from four categories\n",
        "\n",
        "model.compile(loss='categorical_crossentropy',optimizer='adam',metrics=['accuracy'])"
      ],
      "metadata": {
        "id": "sBnufHtnLT49"
      },
      "execution_count": null,
      "outputs": []
    },
    {
      "cell_type": "code",
      "source": [
        "model.layers"
      ],
      "metadata": {
        "colab": {
          "base_uri": "https://localhost:8080/"
        },
        "id": "dY6L3KfRoBbz",
        "outputId": "2cf991e0-2964-4886-b73f-597591354536"
      },
      "execution_count": null,
      "outputs": [
        {
          "output_type": "execute_result",
          "data": {
            "text/plain": [
              "[<keras.layers.convolutional.Conv2D at 0x7feede1eafd0>,\n",
              " <keras.layers.core.activation.Activation at 0x7feede688a90>,\n",
              " <keras.layers.pooling.MaxPooling2D at 0x7feedebe75d0>,\n",
              " <keras.layers.convolutional.Conv2D at 0x7fef5cc4e710>,\n",
              " <keras.layers.core.activation.Activation at 0x7feede1f94d0>,\n",
              " <keras.layers.pooling.MaxPooling2D at 0x7feeda1d0650>,\n",
              " <keras.layers.core.flatten.Flatten at 0x7feede1de150>,\n",
              " <keras.layers.core.dropout.Dropout at 0x7feeda1d0210>,\n",
              " <keras.layers.core.dense.Dense at 0x7feeda1ca390>,\n",
              " <keras.layers.core.dense.Dense at 0x7feede2e28d0>]"
            ]
          },
          "metadata": {},
          "execution_count": 20
        }
      ]
    },
    {
      "cell_type": "markdown",
      "source": [
        "Once the model is built we will call for the below function to acquire a summary for our model.\n",
        "\n",
        "```\n",
        "model.summary()\n",
        "```\n",
        "\n"
      ],
      "metadata": {
        "id": "yo-24_L1nZha"
      }
    },
    {
      "cell_type": "code",
      "source": [
        "model.summary()"
      ],
      "metadata": {
        "colab": {
          "base_uri": "https://localhost:8080/"
        },
        "id": "MxR7GFY0LbP1",
        "outputId": "6e1cca2a-6b51-41fa-eee3-3a5662571c35"
      },
      "execution_count": null,
      "outputs": [
        {
          "output_type": "stream",
          "name": "stdout",
          "text": [
            "Model: \"sequential\"\n",
            "_________________________________________________________________\n",
            " Layer (type)                Output Shape              Param #   \n",
            "=================================================================\n",
            " conv2d (Conv2D)             (None, 98, 98, 200)       5600      \n",
            "                                                                 \n",
            " activation (Activation)     (None, 98, 98, 200)       0         \n",
            "                                                                 \n",
            " max_pooling2d (MaxPooling2D  (None, 49, 49, 200)      0         \n",
            " )                                                               \n",
            "                                                                 \n",
            " conv2d_1 (Conv2D)           (None, 47, 47, 100)       180100    \n",
            "                                                                 \n",
            " activation_1 (Activation)   (None, 47, 47, 100)       0         \n",
            "                                                                 \n",
            " max_pooling2d_1 (MaxPooling  (None, 23, 23, 100)      0         \n",
            " 2D)                                                             \n",
            "                                                                 \n",
            " flatten (Flatten)           (None, 52900)             0         \n",
            "                                                                 \n",
            " dropout (Dropout)           (None, 52900)             0         \n",
            "                                                                 \n",
            " dense (Dense)               (None, 50)                2645050   \n",
            "                                                                 \n",
            " dense_1 (Dense)             (None, 4)                 204       \n",
            "                                                                 \n",
            "=================================================================\n",
            "Total params: 2,830,954\n",
            "Trainable params: 2,830,954\n",
            "Non-trainable params: 0\n",
            "_________________________________________________________________\n"
          ]
        }
      ]
    },
    {
      "cell_type": "markdown",
      "source": [
        "Using SkiKit-Learn creating the four categories:\n",
        "1. Training Data\n",
        "2. Testing Data\n",
        "3. Training Target \n",
        "4. Testing Target"
      ],
      "metadata": {
        "id": "3mGzFR_jm38_"
      }
    },
    {
      "cell_type": "code",
      "source": [
        "train_data,test_data,train_target,test_target=train_test_split(data,new_target,test_size=0.1)"
      ],
      "metadata": {
        "id": "HCnA62DwLfjU"
      },
      "execution_count": null,
      "outputs": []
    },
    {
      "cell_type": "code",
      "source": [
        "train_data.shape"
      ],
      "metadata": {
        "colab": {
          "base_uri": "https://localhost:8080/"
        },
        "id": "WZWCBvQbLibr",
        "outputId": "60e3b34e-7deb-4dbf-ee9a-ffee9162e002"
      },
      "execution_count": null,
      "outputs": [
        {
          "output_type": "execute_result",
          "data": {
            "text/plain": [
              "(284, 100, 100, 3)"
            ]
          },
          "metadata": {},
          "execution_count": 23
        }
      ]
    },
    {
      "cell_type": "code",
      "source": [
        "train_target.shape"
      ],
      "metadata": {
        "colab": {
          "base_uri": "https://localhost:8080/"
        },
        "id": "1FOee-0_LlU1",
        "outputId": "0cd22c0f-9e7c-4ceb-e339-47fd3953fc44"
      },
      "execution_count": null,
      "outputs": [
        {
          "output_type": "execute_result",
          "data": {
            "text/plain": [
              "(284, 4)"
            ]
          },
          "metadata": {},
          "execution_count": 24
        }
      ]
    },
    {
      "cell_type": "code",
      "source": [
        "# checkpoint = ModelCheckpoint('model-{epoch:03d}.model',monitor='val_loss',verbose=0,save_best_only=True,mode='auto')\n",
        "\n",
        "history=model.fit(train_data,train_target,epochs=20,validation_split=0.15)"
      ],
      "metadata": {
        "colab": {
          "base_uri": "https://localhost:8080/"
        },
        "id": "Jd7ZdPE3Lnz0",
        "outputId": "0605dcba-7bc2-4a57-df5d-b680d7a7ff0b"
      },
      "execution_count": null,
      "outputs": [
        {
          "output_type": "stream",
          "name": "stdout",
          "text": [
            "Epoch 1/20\n",
            "8/8 [==============================] - 18s 2s/step - loss: 1.3520 - accuracy: 0.3278 - val_loss: 1.3347 - val_accuracy: 0.3256\n",
            "Epoch 2/20\n",
            "8/8 [==============================] - 18s 2s/step - loss: 1.2811 - accuracy: 0.4066 - val_loss: 1.3012 - val_accuracy: 0.3488\n",
            "Epoch 3/20\n",
            "8/8 [==============================] - 19s 2s/step - loss: 1.1566 - accuracy: 0.5187 - val_loss: 1.2918 - val_accuracy: 0.4186\n",
            "Epoch 4/20\n",
            "8/8 [==============================] - 19s 2s/step - loss: 1.0024 - accuracy: 0.6432 - val_loss: 1.2498 - val_accuracy: 0.5116\n",
            "Epoch 5/20\n",
            "8/8 [==============================] - 19s 2s/step - loss: 0.7540 - accuracy: 0.7635 - val_loss: 1.5563 - val_accuracy: 0.4419\n",
            "Epoch 6/20\n",
            "8/8 [==============================] - 19s 2s/step - loss: 0.5528 - accuracy: 0.8299 - val_loss: 1.4819 - val_accuracy: 0.4651\n",
            "Epoch 7/20\n",
            "8/8 [==============================] - 19s 2s/step - loss: 0.3637 - accuracy: 0.9004 - val_loss: 1.7235 - val_accuracy: 0.4419\n",
            "Epoch 8/20\n",
            "8/8 [==============================] - 19s 2s/step - loss: 0.2591 - accuracy: 0.9295 - val_loss: 1.8520 - val_accuracy: 0.5349\n",
            "Epoch 9/20\n",
            "8/8 [==============================] - 19s 2s/step - loss: 0.1620 - accuracy: 0.9585 - val_loss: 3.1713 - val_accuracy: 0.3256\n",
            "Epoch 10/20\n",
            "8/8 [==============================] - 19s 2s/step - loss: 0.1611 - accuracy: 0.9544 - val_loss: 2.0128 - val_accuracy: 0.4884\n",
            "Epoch 11/20\n",
            "8/8 [==============================] - 19s 2s/step - loss: 0.1152 - accuracy: 0.9834 - val_loss: 2.7193 - val_accuracy: 0.4419\n",
            "Epoch 12/20\n",
            "8/8 [==============================] - 19s 2s/step - loss: 0.0496 - accuracy: 0.9917 - val_loss: 2.6370 - val_accuracy: 0.4419\n",
            "Epoch 13/20\n",
            "8/8 [==============================] - 21s 3s/step - loss: 0.0254 - accuracy: 1.0000 - val_loss: 3.3809 - val_accuracy: 0.3721\n",
            "Epoch 14/20\n",
            "8/8 [==============================] - 28s 3s/step - loss: 0.0443 - accuracy: 0.9876 - val_loss: 3.0029 - val_accuracy: 0.4651\n",
            "Epoch 15/20\n",
            "8/8 [==============================] - 19s 2s/step - loss: 0.0314 - accuracy: 0.9959 - val_loss: 3.0449 - val_accuracy: 0.4884\n",
            "Epoch 16/20\n",
            "8/8 [==============================] - 19s 2s/step - loss: 0.0201 - accuracy: 1.0000 - val_loss: 3.4182 - val_accuracy: 0.4884\n",
            "Epoch 17/20\n",
            "8/8 [==============================] - 22s 3s/step - loss: 0.0125 - accuracy: 0.9959 - val_loss: 3.5145 - val_accuracy: 0.5116\n",
            "Epoch 18/20\n",
            "8/8 [==============================] - 19s 2s/step - loss: 0.0156 - accuracy: 0.9959 - val_loss: 3.5178 - val_accuracy: 0.4419\n",
            "Epoch 19/20\n",
            "8/8 [==============================] - 19s 2s/step - loss: 0.0325 - accuracy: 0.9917 - val_loss: 3.2910 - val_accuracy: 0.4186\n",
            "Epoch 20/20\n",
            "8/8 [==============================] - 19s 2s/step - loss: 0.0150 - accuracy: 0.9959 - val_loss: 3.3890 - val_accuracy: 0.4651\n"
          ]
        }
      ]
    },
    {
      "cell_type": "code",
      "source": [
        "model.save('exercise_model.h5')"
      ],
      "metadata": {
        "id": "_0tITxBELyl2"
      },
      "execution_count": null,
      "outputs": []
    },
    {
      "cell_type": "code",
      "source": [
        "N = 20\n",
        "plt.style.use(\"ggplot\")\n",
        "plt.figure()\n",
        "plt.plot(np.arange(0, N), history.history[\"loss\"], label=\"train_loss\")\n",
        "plt.plot(np.arange(0, N), history.history[\"val_loss\"], label=\"val_loss\")\n",
        "plt.plot(np.arange(0, N), history.history[\"accuracy\"], label=\"train_acc\")\n",
        "plt.plot(np.arange(0, N), history.history[\"val_accuracy\"], label=\"val_acc\")\n",
        "plt.title(\"Training Loss and Accuracy-Exercise\")\n",
        "plt.xlabel(\"Epoch\")\n",
        "plt.ylabel(\"Loss/Accuracy\")\n",
        "plt.legend(loc=\"center right\")\n",
        "plt.savefig(\"CNN_Model_Exercise\")"
      ],
      "metadata": {
        "colab": {
          "base_uri": "https://localhost:8080/",
          "height": 299
        },
        "id": "xuttaXC7QpIM",
        "outputId": "e0fc4615-d80b-490b-8093-b02de0e45661"
      },
      "execution_count": null,
      "outputs": [
        {
          "output_type": "display_data",
          "data": {
            "image/png": "[encoded data removed]",
            "text/plain": [
              "<Figure size 432x288 with 1 Axes>"
            ]
          },
          "metadata": {}
        }
      ]
    }
  ]
}